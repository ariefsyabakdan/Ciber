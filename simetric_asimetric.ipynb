{
  "nbformat": 4,
  "nbformat_minor": 0,
  "metadata": {
    "colab": {
      "name": "simetric asimetric.ipynb",
      "provenance": [],
      "authorship_tag": "ABX9TyOhNCVwKj+Y8FoiOq2ZgT5O",
      "include_colab_link": true
    },
    "kernelspec": {
      "name": "python3",
      "display_name": "Python 3"
    },
    "language_info": {
      "name": "python"
    }
  },
  "cells": [
    {
      "cell_type": "markdown",
      "metadata": {
        "id": "view-in-github",
        "colab_type": "text"
      },
      "source": [
        "<a href=\"https://colab.research.google.com/github/ariefsyabakdan/Ciber/blob/main/simetric_asimetric.ipynb\" target=\"_parent\"><img src=\"https://colab.research.google.com/assets/colab-badge.svg\" alt=\"Open In Colab\"/></a>"
      ]
    },
    {
      "cell_type": "code",
      "metadata": {
        "colab": {
          "base_uri": "https://localhost:8080/"
        },
        "id": "LtrGdZub5X7g",
        "outputId": "36dd1da8-2402-41d0-afad-68d20e996eef"
      },
      "source": [
        "import rsa\n",
        "\n",
        "#asimetric encription\n",
        "\n",
        "# generate public and private keys with\n",
        "# rsa.newkeys method,this method accepts\n",
        "# key length as its parameter\n",
        "# key length should be atleast 16\n",
        "publicKey, privateKey = rsa.newkeys(512)\n",
        "\n",
        "# this is the string that we will be encrypting\n",
        "message = \"hello world\"\n",
        "\n",
        "# rsa.encrypt method is used to encrypt\n",
        "# string with public key string should be\n",
        "# encode to byte string before encryption\n",
        "# with encode method\n",
        "encMessage = rsa.encrypt(message.encode(),\n",
        "\t\t\t\t\t\tpublicKey)\n",
        "\n",
        "print(\"original string: \", message)\n",
        "print(\"encrypted string: \", encMessage)\n",
        "\n",
        "# the encrypted message can be decrypted\n",
        "# with ras.decrypt method and private key\n",
        "# decrypt method returns encoded byte string,\n",
        "# use decode method to convert it to string\n",
        "# public key cannot be used for decryption\n",
        "decMessage = rsa.decrypt(encMessage, privateKey).decode()\n",
        "\n",
        "print(\"decrypted string: \", decMessage)\n"
      ],
      "execution_count": 3,
      "outputs": [
        {
          "output_type": "stream",
          "name": "stdout",
          "text": [
            "original string:  hello world\n",
            "encrypted string:  b\"\\x15\\xeaU\\xd6\\xa6m\\x8a\\xc7+'\\x15\\xfc\\xa6\\xbf\\xcdV\\xf9@\\xbc\\\\\\x9f\\x86\\xb5\\xda]2\\xf9Z\\xcc\\xe2\\xc0\\xad\\xe3\\xe5W\\x11\\xeb\\xf8\\xda\\x80_\\xa6\\xc5\\x07\\xe1U%\\x83\\x8ft\\x83\\x16\\xef\\xca;\\xf0\\x95\\xc2\\x08~O^\\x08\\xd9\"\n",
            "decrypted string:  hello world\n"
          ]
        }
      ]
    },
    {
      "cell_type": "code",
      "metadata": {
        "colab": {
          "base_uri": "https://localhost:8080/"
        },
        "id": "N0QW2wpk6CCK",
        "outputId": "d9eb0ed2-b210-4450-e4dc-821454369918"
      },
      "source": [
        "pip install cryptography"
      ],
      "execution_count": 7,
      "outputs": [
        {
          "output_type": "stream",
          "name": "stdout",
          "text": [
            "Collecting cryptography\n",
            "  Downloading cryptography-35.0.0-cp36-abi3-manylinux_2_24_x86_64.whl (3.5 MB)\n",
            "\u001b[K     |████████████████████████████████| 3.5 MB 1.8 MB/s \n",
            "\u001b[?25hRequirement already satisfied: cffi>=1.12 in /usr/local/lib/python3.7/dist-packages (from cryptography) (1.14.6)\n",
            "Requirement already satisfied: pycparser in /usr/local/lib/python3.7/dist-packages (from cffi>=1.12->cryptography) (2.20)\n",
            "Installing collected packages: cryptography\n",
            "Successfully installed cryptography-35.0.0\n"
          ]
        }
      ]
    },
    {
      "cell_type": "code",
      "metadata": {
        "colab": {
          "base_uri": "https://localhost:8080/"
        },
        "id": "8ZTf_VXK6QZH",
        "outputId": "f7e08823-c9d6-43d8-e88b-1e32800f5553"
      },
      "source": [
        "from cryptography.fernet import Fernet\n",
        "\n",
        "# we will be encryting  cause this is the symettric encription the below string.\n",
        "message = \"hello world\"\n",
        "\n",
        "# generate a key for encryptio and decryption\n",
        "# You can use fernet to generate\n",
        "# the key or use random key generator\n",
        "# here I'm using fernet to generate key\n",
        "\n",
        "key = Fernet.generate_key()\n",
        "\n",
        "# Instance the Fernet class with the key\n",
        "\n",
        "fernet = Fernet(key)\n",
        "\n",
        "# then use the Fernet class instance\n",
        "# to encrypt the string string must must\n",
        "# be encoded to byte string before encryption\n",
        "encMessage = fernet.encrypt(message.encode())\n",
        "\n",
        "print(\"original string: \", message)\n",
        "print(\"encrypted string: \", encMessage)\n",
        "\n",
        "# decrypt the encrypted string with the\n",
        "# Fernet instance of the key,\n",
        "# that was used for encrypting the string\n",
        "# encoded byte string is returned by decrypt method,\n",
        "# so decode it to string with decode methods\n",
        "decMessage = fernet.decrypt(encMessage).decode()\n",
        "\n",
        "print(\"decrypted string: \", decMessage)\n"
      ],
      "execution_count": 9,
      "outputs": [
        {
          "output_type": "stream",
          "name": "stdout",
          "text": [
            "original string:  hello world\n",
            "encrypted string:  b'gAAAAABhg4_LPNFF4GY7xS0OcZ_UOR-U2x-nCjcvva7f6pV5WMzM7mU_EhG6ztjdUCvnurgMYmTFGh4U6zaefCnJiCn-PZoXoQ=='\n",
            "decrypted string:  hello world\n"
          ]
        }
      ]
    }
  ]
}