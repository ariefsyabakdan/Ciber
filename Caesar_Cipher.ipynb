{
  "nbformat": 4,
  "nbformat_minor": 0,
  "metadata": {
    "colab": {
      "name": "Caesar Cipher.ipynb",
      "provenance": [],
      "authorship_tag": "ABX9TyPTV3dHVGAF+XIQ24Mt7HpW",
      "include_colab_link": true
    },
    "kernelspec": {
      "name": "python3",
      "display_name": "Python 3"
    },
    "language_info": {
      "name": "python"
    }
  },
  "cells": [
    {
      "cell_type": "markdown",
      "metadata": {
        "id": "view-in-github",
        "colab_type": "text"
      },
      "source": [
        "<a href=\"https://colab.research.google.com/github/ariefsyabakdan/Ciber/blob/main/Caesar_Cipher.ipynb\" target=\"_parent\"><img src=\"https://colab.research.google.com/assets/colab-badge.svg\" alt=\"Open In Colab\"/></a>"
      ]
    },
    {
      "cell_type": "code",
      "metadata": {
        "colab": {
          "base_uri": "https://localhost:8080/"
        },
        "id": "idptEJ6B7YsO",
        "outputId": "ed67e820-46fc-4b6f-89e0-c25dadc151ed"
      },
      "source": [
        "shift = 3 \n",
        "\n",
        "text = \"BISMILLAH NILAI A CIBER SEKURITI\"\n",
        "\n",
        "encryption = \"\"\n",
        "\n",
        "for c in text:\n",
        "\n",
        "    \n",
        "    if c.isupper():\n",
        "\n",
        "        \n",
        "        c_unicode = ord(c)\n",
        "\n",
        "        c_index = ord(c) - ord(\"A\")\n",
        "\n",
        "        \n",
        "        new_index = (c_index + shift) % 26\n",
        "\n",
        "        \n",
        "        new_unicode = new_index + ord(\"A\")\n",
        "\n",
        "        new_character = chr(new_unicode)\n",
        "\n",
        "        \n",
        "        encryption = encryption + new_character\n",
        "\n",
        "    else:\n",
        "\n",
        "        \n",
        "        encryption += c\n",
        "        \n",
        "print(\"Plain text:\",text)\n",
        "\n",
        "print(\"Encrypted text:\",encryption)"
      ],
      "execution_count": 3,
      "outputs": [
        {
          "output_type": "stream",
          "name": "stdout",
          "text": [
            "Plain text: BISMILLAH NILAI A CIBER SEKURITI\n",
            "Encrypted text: ELVPLOODK QLODL D FLEHU VHNXULWL\n"
          ]
        }
      ]
    }
  ]
}